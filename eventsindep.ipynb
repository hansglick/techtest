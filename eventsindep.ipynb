{
 "cells": [
  {
   "cell_type": "markdown",
   "metadata": {},
   "source": [
    "#### **Définitions**\n",
    "\n",
    " * $AS_2$ : tirer un As lors du 2eme tirage\n",
    " * $AS_1$ : tirer un As lors du 1er tirage\n",
    " * $COEUR_1$ : tirer un coeur lors du 1er tirage\n",
    " * $non.AS_1$ : tirer une autre carte qu'un as lors du 1er tirage\n",
    " * $AS.COEUR_1$ : tirer l'as de coeur lors du 1er tirage\n",
    " * $COEUR.non.AS_1$ : tirer un coeur qui ne soit pas l'as de coeur au 1er tirage"
   ]
  },
  {
   "cell_type": "markdown",
   "metadata": {},
   "source": [
    "#### **Question**\n",
    "On cherche à prouver que $COEUR_1$ et $AS_2$ sont indépendants. Or, ils le sont ssi :\n",
    " * (1) $P(COEUR_1 | AS_2) = P(COEUR_1)$\n",
    " * (2) $P(AS_2 | COEUR_1) = P(AS_2)$\n",
    " "
   ]
  },
  {
   "cell_type": "markdown",
   "metadata": {},
   "source": [
    "#### **Raisonnement**\n",
    " * D'après le théorème de Bayes,\n",
    " * $P(COEUR_1 | AS_2) = \\frac{P(COEUR_1) * P(AS_2|COEUR_1)}{P(AS_2)}$"
   ]
  },
  {
   "cell_type": "markdown",
   "metadata": {},
   "source": [
    "#### **Calcul**"
   ]
  },
  {
   "cell_type": "markdown",
   "metadata": {},
   "source": [
    " * $P(COEUR_1) = \\frac{1}{4}$"
   ]
  },
  {
   "cell_type": "markdown",
   "metadata": {},
   "source": [
    " * $P(AS_2|COEUR_1) = (P(AS_2|AS.COEUR_1)*P(AS.COEUR_1) + P(AS_2|COEUR.non.AS_1)*P(COEUR.non.AS_1)) / P(COEUR_1)$\n",
    " * $P(AS_2|COEUR_1) = (\\frac{3}{51} * \\frac{1}{52} + \\frac{4}{51} * \\frac{12}{52})*4$\n",
    " * $P(AS_2|COEUR_1) = \\frac{4}{52}$\n",
    " * $P(AS_2|COEUR_1) = \\frac{1}{13}$"
   ]
  },
  {
   "cell_type": "markdown",
   "metadata": {},
   "source": [
    " * $P(AS_2) = P(AS_2|non.AS_1)*P(non.AS_1) + P(AS_2|AS_1)*P(AS_1)$\n",
    " * $P(AS_2) = \\frac{4}{51} * \\frac{48}{52} *  + \\frac{3}{51} * \\frac{4}{52}$\n",
    " * $P(AS_2) = \\frac{201}{51*52}$\n",
    " * $P(AS_2) = \\frac{51*4}{51*52}$\n",
    " * $P(AS_2) = \\frac{4}{52}$"
   ]
  },
  {
   "cell_type": "markdown",
   "metadata": {},
   "source": [
    "#### **Final**\n",
    " * $P(COEUR_1 | AS_2) = \\frac{P(COEUR_1) * P(AS_2|COEUR_1)}{P(AS_2)}$\n",
    " * $P(COEUR_1 | AS_2) = \\frac{\\frac{1}{4} * \\frac{1}{13}}{\\frac{4}{52}}$\n",
    " * $P(COEUR_1 | AS_2) = \\frac{1}{13*4} * \\frac{52}{4}$\n",
    " * $P(COEUR_1 | AS_2) = \\frac{1}{4}$"
   ]
  },
  {
   "cell_type": "markdown",
   "metadata": {},
   "source": [
    "#### **Problème**\n",
    "$P(COEUR_1 | AS_2) \\ne P(COEUR_1) $"
   ]
  },
  {
   "cell_type": "code",
   "execution_count": null,
   "metadata": {},
   "outputs": [],
   "source": []
  }
 ],
 "metadata": {
  "kernelspec": {
   "display_name": "Python 3",
   "language": "python",
   "name": "python3"
  },
  "language_info": {
   "codemirror_mode": {
    "name": "ipython",
    "version": 3
   },
   "file_extension": ".py",
   "mimetype": "text/x-python",
   "name": "python",
   "nbconvert_exporter": "python",
   "pygments_lexer": "ipython3",
   "version": "3.7.3"
  }
 },
 "nbformat": 4,
 "nbformat_minor": 2
}
