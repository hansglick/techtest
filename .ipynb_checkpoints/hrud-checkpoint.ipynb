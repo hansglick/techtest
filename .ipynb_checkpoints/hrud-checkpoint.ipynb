{
 "cells": [
  {
   "cell_type": "markdown",
   "metadata": {},
   "source": [
    "# Enoncé"
   ]
  },
  {
   "cell_type": "markdown",
   "metadata": {},
   "source": [
    " * **Input** : une liste d'integers\n",
    " * **Output** : un integer représentant le nombre de valeurs non uniques dans la liste input\n",
    " * **Contraintes** : \n",
    "  * n, la taille de la liste input\n",
    "  * numbers[i], le ieme integer de la liste input\n",
    "  * *3 <= n <= 1000*\n",
    "  * *1 <= numbers[i] <= 1000*"
   ]
  },
  {
   "cell_type": "markdown",
   "metadata": {},
   "source": [
    "# Functions"
   ]
  },
  {
   "cell_type": "code",
   "execution_count": 51,
   "metadata": {},
   "outputs": [],
   "source": [
    "def constraintA(numbers):\n",
    "    a = len(numbers)>=3\n",
    "    b = len(numbers)<=1000\n",
    "    response = a and b\n",
    "    return response"
   ]
  },
  {
   "cell_type": "code",
   "execution_count": 52,
   "metadata": {},
   "outputs": [],
   "source": [
    "def constraintB(numbers):\n",
    "    solution = True\n",
    "    for item in numbers:\n",
    "        a = item>=1\n",
    "        b = item<=1000\n",
    "        response = a and b\n",
    "        if response == False:\n",
    "            solution = False\n",
    "            break\n",
    "    return solution"
   ]
  },
  {
   "cell_type": "code",
   "execution_count": 53,
   "metadata": {},
   "outputs": [],
   "source": [
    "def constraints(numbers):\n",
    "    response = constraintA(numbers) and constraintB(numbers)\n",
    "    return response"
   ]
  },
  {
   "cell_type": "code",
   "execution_count": 54,
   "metadata": {},
   "outputs": [],
   "source": [
    "def retrievenu(numbers):\n",
    "    \n",
    "    numbers.sort()\n",
    "    nulist = []\n",
    "    \n",
    "    for iditem,item in enumerate(numbers[:-1]):\n",
    "        item0 = item\n",
    "        item1 = numbers[iditem+1]\n",
    "        \n",
    "        cdta = item0 == item1\n",
    "        if cdta:\n",
    "            cdtb = item0 not in nulist\n",
    "            if cdtb:\n",
    "                nulist.append(item0)\n",
    "        \n",
    "    return len(nulist)"
   ]
  },
  {
   "cell_type": "code",
   "execution_count": 55,
   "metadata": {},
   "outputs": [],
   "source": [
    "def final(numbers):\n",
    "    verified = constraints(numbers)\n",
    "    if verified:\n",
    "        return retrievenu(numbers)\n",
    "    else:\n",
    "        return \"Ne respecte pas les contraintes\""
   ]
  },
  {
   "cell_type": "markdown",
   "metadata": {},
   "source": [
    "# Tests"
   ]
  },
  {
   "cell_type": "code",
   "execution_count": 56,
   "metadata": {},
   "outputs": [
    {
     "data": {
      "text/plain": [
       "2"
      ]
     },
     "execution_count": 56,
     "metadata": {},
     "output_type": "execute_result"
    }
   ],
   "source": [
    "numbers = [22,6,99,22,1000,99,56]\n",
    "final(numbers)"
   ]
  },
  {
   "cell_type": "code",
   "execution_count": 57,
   "metadata": {},
   "outputs": [
    {
     "data": {
      "text/plain": [
       "'Ne respecte pas les contraintes'"
      ]
     },
     "execution_count": 57,
     "metadata": {},
     "output_type": "execute_result"
    }
   ],
   "source": [
    "numbers = [22,6]\n",
    "final(numbers)"
   ]
  },
  {
   "cell_type": "code",
   "execution_count": 58,
   "metadata": {},
   "outputs": [
    {
     "data": {
      "text/plain": [
       "'Ne respecte pas les contraintes'"
      ]
     },
     "execution_count": 58,
     "metadata": {},
     "output_type": "execute_result"
    }
   ],
   "source": [
    "numbers = [22,6,99,22,1001,99,56]\n",
    "final(numbers)"
   ]
  },
  {
   "cell_type": "code",
   "execution_count": 59,
   "metadata": {},
   "outputs": [
    {
     "data": {
      "text/plain": [
       "'Ne respecte pas les contraintes'"
      ]
     },
     "execution_count": 59,
     "metadata": {},
     "output_type": "execute_result"
    }
   ],
   "source": [
    "numbers = [0,6,99,22,1000,99,56]\n",
    "final(numbers)"
   ]
  },
  {
   "cell_type": "code",
   "execution_count": 60,
   "metadata": {},
   "outputs": [
    {
     "data": {
      "text/plain": [
       "'Ne respecte pas les contraintes'"
      ]
     },
     "execution_count": 60,
     "metadata": {},
     "output_type": "execute_result"
    }
   ],
   "source": [
    "numbers = [-5,6,99,22,1000,99,56]\n",
    "final(numbers)"
   ]
  },
  {
   "cell_type": "code",
   "execution_count": 61,
   "metadata": {},
   "outputs": [
    {
     "data": {
      "text/plain": [
       "0"
      ]
     },
     "execution_count": 61,
     "metadata": {},
     "output_type": "execute_result"
    }
   ],
   "source": [
    "numbers = [22,6,99,45,1000,56]\n",
    "final(numbers)"
   ]
  }
 ],
 "metadata": {
  "kernelspec": {
   "display_name": "Python 3",
   "language": "python",
   "name": "python3"
  },
  "language_info": {
   "codemirror_mode": {
    "name": "ipython",
    "version": 3
   },
   "file_extension": ".py",
   "mimetype": "text/x-python",
   "name": "python",
   "nbconvert_exporter": "python",
   "pygments_lexer": "ipython3",
   "version": "3.7.3"
  }
 },
 "nbformat": 4,
 "nbformat_minor": 2
}
