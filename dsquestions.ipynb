{
 "cells": [
  {
   "cell_type": "markdown",
   "metadata": {},
   "source": [
    "**Défintion** :\n",
    "$ R^2 = 1- \\frac{SSE}{SST}$"
   ]
  },
  {
   "cell_type": "markdown",
   "metadata": {},
   "source": [
    "**Question** : Pourquoi le R² ne fait qu'augmenter au fur et à mesure qu'on rajoute des features au modèle? "
   ]
  },
  {
   "cell_type": "markdown",
   "metadata": {},
   "source": [
    "**Réponse** : \n",
    " * Dans le cas où le modèle ne contienne qu'une seule variable :\n",
    " * $RSS_1 = \\sum_{i=1}^n (Y_i - \\hat \\beta_0 - \\hat \\beta_1^{(1)} X_1)^2$\n",
    " * Dans le cas où le modèle contienne en plus de la première variable, une seconde : \n",
    " * $RSS_2 = \\sum_{i=1}^n (Y_i - \\hat \\beta_0 - \\hat \\beta_1^{(2)} X_1 - \\hat \\beta_2 X_2)^2$\n"
   ]
  },
  {
   "cell_type": "markdown",
   "metadata": {},
   "source": [
    " * LA RSS ne peut qu'augmenter alors que la TSS est constante, en conclusion, le R² ne fait qu'augmenter"
   ]
  },
  {
   "cell_type": "code",
   "execution_count": null,
   "metadata": {},
   "outputs": [],
   "source": []
  },
  {
   "cell_type": "code",
   "execution_count": null,
   "metadata": {},
   "outputs": [],
   "source": []
  },
  {
   "cell_type": "code",
   "execution_count": null,
   "metadata": {},
   "outputs": [],
   "source": []
  },
  {
   "cell_type": "markdown",
   "metadata": {},
   "source": [
    "**Question** : La chaîne de markov ci dessous, calculer la distribution stationnaire?"
   ]
  },
  {
   "cell_type": "code",
   "execution_count": 11,
   "metadata": {},
   "outputs": [
    {
     "name": "stdout",
     "output_type": "stream",
     "text": [
      "[0.2 0.8]\n"
     ]
    }
   ],
   "source": [
    "import numpy as np\n",
    "matrix = np.array([[0.6,0.4],[0.1,0.9]])\n",
    "bruteforce_powered_matrix = np.linalg.matrix_power(matrix, 50)\n",
    "distribution_solution = bruteforce_powered_matrix[1,]\n",
    "print(distribution_solution)"
   ]
  },
  {
   "cell_type": "code",
   "execution_count": null,
   "metadata": {},
   "outputs": [],
   "source": []
  },
  {
   "cell_type": "code",
   "execution_count": null,
   "metadata": {},
   "outputs": [],
   "source": []
  },
  {
   "cell_type": "code",
   "execution_count": null,
   "metadata": {},
   "outputs": [],
   "source": []
  },
  {
   "cell_type": "markdown",
   "metadata": {},
   "source": [
    "**Question** : on lance une flèche sur une cible circulaire randomisée. Quelle est la probabilité que la flèche soit plus proche du centre que du bord?"
   ]
  },
  {
   "cell_type": "markdown",
   "metadata": {},
   "source": [
    "$Area(CloserCenter) =  \\frac{\\pi r²}{4}$"
   ]
  },
  {
   "cell_type": "markdown",
   "metadata": {},
   "source": [
    "$Area(Cible) = \\pi r²$"
   ]
  },
  {
   "cell_type": "markdown",
   "metadata": {},
   "source": [
    "$P(CloserCenter) = \\frac{Area(CloseCenter)}{Area(Cible)}$"
   ]
  },
  {
   "cell_type": "markdown",
   "metadata": {},
   "source": [
    "$P(CloseCenter) = \\frac{1}{4}$"
   ]
  },
  {
   "cell_type": "markdown",
   "metadata": {},
   "source": [
    "<img src=\"img/dashboard.PNG\" width=\"227\">"
   ]
  },
  {
   "cell_type": "code",
   "execution_count": null,
   "metadata": {},
   "outputs": [],
   "source": []
  },
  {
   "cell_type": "markdown",
   "metadata": {},
   "source": [
    "**Question** : 3 sacs de 100 billes : Je choisis un sac au hasard, quelle est la probabilité de tirer une rouge?\n",
    " * Sac n°1 : 75 rouges, 25 bleus\n",
    " * Sac n°2 : 60 rouges, 40 bleus\n",
    " * Sac n°3 : 45 rouges, 55 bleus"
   ]
  },
  {
   "cell_type": "markdown",
   "metadata": {},
   "source": [
    " * Soit Pi la probabilité de tirer un rouge dans le sac i\n",
    " * Soit Di la probabilité de tirer le sac i\n",
    " * $p = \\sum_{i=1}^{N} DiPi$\n",
    " * Di vaut 1/3 c'est donc une constante (K)\n",
    " * $p = \\sum_{i=1}^{N} K*Pi$\n",
    " * $p = K * \\sum_{i=1}^{N} Pi$\n",
    " * $p = \\frac{1}{3} * (0.75 + 0.60 + 0.45)$\n",
    " * $p = \\frac{1.8}{3} $\n",
    " * $p = 0.6$"
   ]
  },
  {
   "cell_type": "code",
   "execution_count": null,
   "metadata": {},
   "outputs": [],
   "source": []
  },
  {
   "cell_type": "code",
   "execution_count": null,
   "metadata": {},
   "outputs": [],
   "source": []
  },
  {
   "cell_type": "code",
   "execution_count": null,
   "metadata": {},
   "outputs": [],
   "source": []
  },
  {
   "cell_type": "markdown",
   "metadata": {},
   "source": [
    "#### **Question** : \n",
    " * SAC1 contient 4 Blancs 6 Noirs\n",
    " * SAC2 contient 4 Blancs 3 Noirs\n",
    " * Je tire au hasard l'un des sacs, je tire au hasard dans le sac, la balle est noire. Quelle est la probabilité que la balle appartienne au SAC1"
   ]
  },
  {
   "cell_type": "markdown",
   "metadata": {},
   "source": [
    "#### **Evénements** :\n",
    " * NOIR = La balle tirée est noire\n",
    " * SAC1 = la balle tirée provient du sac 1\n",
    " * SACi = avoir choisi le sac i"
   ]
  },
  {
   "cell_type": "markdown",
   "metadata": {},
   "source": [
    "#### **Résolution** :\n",
    "D'après Bayes, on \n",
    " * $P(SAC1 | NOIR) = \\frac{P(SAC1)P(NOIR|SAC1)}{P(NOIR)}$"
   ]
  },
  {
   "cell_type": "markdown",
   "metadata": {},
   "source": [
    " * $P(SAC1) = \\frac{1}{2}$\n",
    " * $P(NOIR | SAC1) = \\frac{6}{10}$\n",
    " * $P(NOIR) = P(SACi)(P(NOIR|SAC1) + P(NOIR|SAC2))$\n",
    " * $P(NOIR) = \\frac{1}{2}(\\frac{6}{10}+\\frac{3}{7})$\n",
    "\n"
   ]
  },
  {
   "cell_type": "markdown",
   "metadata": {},
   "source": [
    " * $P(SAC1|NOIR) = \\frac{\\frac{1}{2} * \\frac{6}{10}}{\\frac{1}{2}(\\frac{6}{10}+\\frac{3}{7})}$\n",
    " * $P(SAC1|NOIR) = \\frac{\\frac{6}{10}}{(\\frac{6}{10}+\\frac{3}{7})}$\n",
    " * $P(SAC1|NOIR) = \\frac{7}{12}$"
   ]
  },
  {
   "cell_type": "code",
   "execution_count": null,
   "metadata": {},
   "outputs": [],
   "source": []
  },
  {
   "cell_type": "code",
   "execution_count": null,
   "metadata": {},
   "outputs": [],
   "source": []
  },
  {
   "cell_type": "code",
   "execution_count": null,
   "metadata": {},
   "outputs": [],
   "source": []
  },
  {
   "cell_type": "markdown",
   "metadata": {},
   "source": [
    "#### **Question**\n",
    "On lance un dé à 6 faces, trois fois de suite. On note X1, X2 et X3, le résultat des 3 dés. Calculez la probabilité P(X1+X2+X3<=5)?"
   ]
  },
  {
   "cell_type": "markdown",
   "metadata": {},
   "source": [
    "#### **Solution**\n",
    "Il existe 6 x 6 x 6 possibilités (216). Il n'y a que trois sommes qui peuvent faire 5 ou moins :\n",
    " * *SOMME = 5*\n",
    "  * 1,2,2 : 3 possibilités\n",
    "  * 1,1,3 : 3 possibilités\n",
    " * *SOMME = 4*\n",
    "  * 1,1,2 : 3 possibilités\n",
    " * *SOMME = 3*\n",
    "  * 1,1,1 : 1 seule possibilité"
   ]
  },
  {
   "cell_type": "markdown",
   "metadata": {},
   "source": [
    "Conclusion, il y a 10/216 possibilités que P(X1+X2+X3<=5)"
   ]
  },
  {
   "cell_type": "code",
   "execution_count": null,
   "metadata": {},
   "outputs": [],
   "source": []
  },
  {
   "cell_type": "code",
   "execution_count": null,
   "metadata": {},
   "outputs": [],
   "source": []
  },
  {
   "cell_type": "code",
   "execution_count": null,
   "metadata": {},
   "outputs": [],
   "source": []
  },
  {
   "cell_type": "markdown",
   "metadata": {},
   "source": [
    "#### **Question** :\n",
    "Tu as un modèle linéaire. Un des mecs de ton équipe te challenge en te demandant si tu es capable de prouver qu'au moins une des features de ton modèle a une utilité. Comment fais tu?"
   ]
  },
  {
   "cell_type": "markdown",
   "metadata": {},
   "source": [
    "#### **Solution** :\n",
    "Le test de fisher semble être approprié. Sous HO, la stats de test suit une loi de Fisher de paramètres (p2-p1,n-p2)\n",
    " * $t = \\frac{\\frac{RSS1 - RSS2}{p2 - p1}}{\\frac{RSS2}{n - p2}}$\n",
    " * Avec : \n",
    "  * RSS1 : RSS du modèle contraint (avec le moins de parametres)\n",
    "  * RSS2 : RSS du modèle complexe\n",
    "  * p1 : Nombre de paramètres du modèle restreint\n",
    "  * p2 : Nombre de paramètres du modèle complexe\n",
    "  * n : Nombre d'observations du dataset"
   ]
  },
  {
   "cell_type": "code",
   "execution_count": null,
   "metadata": {},
   "outputs": [],
   "source": []
  },
  {
   "cell_type": "code",
   "execution_count": null,
   "metadata": {},
   "outputs": [],
   "source": []
  },
  {
   "cell_type": "markdown",
   "metadata": {},
   "source": [
    "#### **Question** :\n",
    "Quelle est la log loss?"
   ]
  },
  {
   "cell_type": "markdown",
   "metadata": {},
   "source": [
    "#### **Solution** :\n",
    "$LogLoss = -y log(\\hat{y}) - (1 - y) log (1 - \\hat{y})$"
   ]
  },
  {
   "cell_type": "code",
   "execution_count": null,
   "metadata": {},
   "outputs": [],
   "source": []
  },
  {
   "cell_type": "code",
   "execution_count": null,
   "metadata": {},
   "outputs": [],
   "source": []
  },
  {
   "cell_type": "code",
   "execution_count": null,
   "metadata": {},
   "outputs": [],
   "source": []
  },
  {
   "cell_type": "markdown",
   "metadata": {},
   "source": [
    "#### **TOPO sur les eigen decomposition**\n",
    "\n",
    " * only for square matrix, m x m\n",
    " * extract two sets :\n",
    "  1. m eigen values, scalar\n",
    "  2. m egein vectors, vectors\n",
    "  3. eigen value is associated whit its eigen vector\n",
    "  4. pairs of value, vector\n",
    " * Lambda.v = A.v, où Lambda est la valeur propre et v est le vecteur propre de la matrice A\n",
    " * Autement dit, on cherche le vecteur v tel que lorsqu'il est transformé par A, il n'y est pas de changement à un scalaire près"
   ]
  },
  {
   "cell_type": "code",
   "execution_count": null,
   "metadata": {},
   "outputs": [],
   "source": []
  },
  {
   "cell_type": "code",
   "execution_count": null,
   "metadata": {},
   "outputs": [],
   "source": []
  },
  {
   "cell_type": "markdown",
   "metadata": {},
   "source": [
    "#### **TOPO SINGALUR DECOMPOSITION**\n",
    "\n",
    " * Cas général, matrice (m,n)\n",
    " * Souvent vue comme une matrice m users . n items\n",
    " * Si le n<<r(nombre de concepts) alors on opte pour la compacte **SVD**\n",
    "\n",
    "#### **Compact SVD**\n",
    " * A = U.Sigma.V*\n",
    "  * A : matrice (m,n)\n",
    "  * U : Matrice des users (m,r), chaque m ligne correspond à un user dans le référentiel de r concepts\n",
    "  * Sigma : Matrice des poids des concepts (r,r), la matrice est diagonale, les poids sont rangés par orre décroissant\n",
    "  * V* : matrice des items (r,n), chaque colonne représente un film dans le référentil de r concepts"
   ]
  },
  {
   "cell_type": "code",
   "execution_count": null,
   "metadata": {},
   "outputs": [],
   "source": []
  },
  {
   "cell_type": "code",
   "execution_count": null,
   "metadata": {},
   "outputs": [],
   "source": []
  },
  {
   "cell_type": "code",
   "execution_count": null,
   "metadata": {},
   "outputs": [],
   "source": []
  },
  {
   "cell_type": "markdown",
   "metadata": {},
   "source": [
    "#### **TOPO R²**\n",
    "\n",
    " * R² = 1 - SSres / SStot\n",
    "  * SSres = Somme des erreurs au carré\n",
    "  * SStot = Somme des distances à la moyenne au carré\n",
    "  \n",
    "  \n",
    "#### **Adjusted R²**\n",
    " * Adj.R² =  1 - (1-R²) * (n-1) / (n-p-1)\n",
    " * n = sample size\n",
    " * p = nombre de predictors\n"
   ]
  },
  {
   "cell_type": "code",
   "execution_count": null,
   "metadata": {},
   "outputs": [],
   "source": []
  },
  {
   "cell_type": "code",
   "execution_count": null,
   "metadata": {},
   "outputs": [],
   "source": []
  },
  {
   "cell_type": "code",
   "execution_count": null,
   "metadata": {},
   "outputs": [],
   "source": []
  },
  {
   "cell_type": "markdown",
   "metadata": {},
   "source": [
    "#### **TOPO SUR LA PCA**\n",
    "\n",
    "* **step by step**\n",
    " 1. Standardize the data\n",
    " 2. Covariance matrix\n",
    " 3. Compute eigen decomposition\n",
    " 4. transforme original matrix = Feature Matrix * Top K eigen vectors : A(m,n) * E(n,k) = F(m,k)"
   ]
  },
  {
   "cell_type": "code",
   "execution_count": null,
   "metadata": {},
   "outputs": [],
   "source": []
  }
 ],
 "metadata": {
  "kernelspec": {
   "display_name": "Python 3",
   "language": "python",
   "name": "python3"
  },
  "language_info": {
   "codemirror_mode": {
    "name": "ipython",
    "version": 3
   },
   "file_extension": ".py",
   "mimetype": "text/x-python",
   "name": "python",
   "nbconvert_exporter": "python",
   "pygments_lexer": "ipython3",
   "version": "3.7.3"
  }
 },
 "nbformat": 4,
 "nbformat_minor": 2
}
