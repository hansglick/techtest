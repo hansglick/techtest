{
 "cells": [
  {
   "cell_type": "markdown",
   "metadata": {},
   "source": [
    "**Défintion** :\n",
    "$ R^2 = 1- \\frac{SSE}{SST}$"
   ]
  },
  {
   "cell_type": "markdown",
   "metadata": {},
   "source": [
    "**Question** : Pourquoi le R² ne fait qu'augmenter au fur et à mesure qu'on rajoute des features au modèle? "
   ]
  },
  {
   "cell_type": "markdown",
   "metadata": {},
   "source": [
    "**Réponse** : \n",
    " * Dans le cas où le modèle ne contienne qu'une seule variable :\n",
    " * $RSS_1 = \\sum_{i=1}^n (Y_i - \\hat \\beta_0 - \\hat \\beta_1^{(1)} X_1)^2$\n",
    " * Dans le cas où le modèle contienne en plus de la première variable, une seconde : \n",
    " * $RSS_2 = \\sum_{i=1}^n (Y_i - \\hat \\beta_0 - \\hat \\beta_1^{(2)} X_1 - \\hat \\beta_2 X_2)^2$\n"
   ]
  },
  {
   "cell_type": "markdown",
   "metadata": {},
   "source": [
    " * LA RSS ne peut qu'augmenter alors que la TSS est constante, en conclusion, le R² ne fait qu'augmenter"
   ]
  },
  {
   "cell_type": "code",
   "execution_count": null,
   "metadata": {},
   "outputs": [],
   "source": []
  },
  {
   "cell_type": "code",
   "execution_count": null,
   "metadata": {},
   "outputs": [],
   "source": []
  },
  {
   "cell_type": "code",
   "execution_count": null,
   "metadata": {},
   "outputs": [],
   "source": []
  },
  {
   "cell_type": "markdown",
   "metadata": {},
   "source": [
    "**Question** : La chaîne de markov ci dessous, calculer la distribution stationnaire?"
   ]
  },
  {
   "cell_type": "code",
   "execution_count": 11,
   "metadata": {},
   "outputs": [
    {
     "name": "stdout",
     "output_type": "stream",
     "text": [
      "[0.2 0.8]\n"
     ]
    }
   ],
   "source": [
    "import numpy as np\n",
    "matrix = np.array([[0.6,0.4],[0.1,0.9]])\n",
    "bruteforce_powered_matrix = np.linalg.matrix_power(matrix, 50)\n",
    "distribution_solution = bruteforce_powered_matrix[1,]\n",
    "print(distribution_solution)"
   ]
  },
  {
   "cell_type": "code",
   "execution_count": null,
   "metadata": {},
   "outputs": [],
   "source": []
  },
  {
   "cell_type": "code",
   "execution_count": null,
   "metadata": {},
   "outputs": [],
   "source": []
  },
  {
   "cell_type": "code",
   "execution_count": null,
   "metadata": {},
   "outputs": [],
   "source": []
  },
  {
   "cell_type": "markdown",
   "metadata": {},
   "source": [
    "**Question** : on lance une flèche sur une cible circulaire randomisée. Quelle est la probabilité que la flèche soit plus proche du centre que du bord?"
   ]
  },
  {
   "cell_type": "markdown",
   "metadata": {},
   "source": [
    "$Area(CloserCenter) =  \\frac{\\pi r²}{4}$"
   ]
  },
  {
   "cell_type": "markdown",
   "metadata": {},
   "source": [
    "$Area(Cible) = \\pi r²$"
   ]
  },
  {
   "cell_type": "markdown",
   "metadata": {},
   "source": [
    "$P(CloserCenter) = \\frac{Area(CloseCenter)}{Area(Cible)}$"
   ]
  },
  {
   "cell_type": "markdown",
   "metadata": {},
   "source": [
    "$P(CloseCenter) = \\frac{1}{4}$"
   ]
  },
  {
   "cell_type": "code",
   "execution_count": null,
   "metadata": {},
   "outputs": [],
   "source": []
  },
  {
   "cell_type": "code",
   "execution_count": null,
   "metadata": {},
   "outputs": [],
   "source": []
  },
  {
   "cell_type": "markdown",
   "metadata": {},
   "source": [
    "**Question** : 3 sacs de 100 billes : Je choisis un sac au hasard, quelle est la probabilité de tirer une rouge?\n",
    " * Sac n°1 : 75 rouges, 25 bleus\n",
    " * Sac n°2 : 60 rouges, 40 bleus\n",
    " * Sac n°3 : 45 rouges, 55 bleus"
   ]
  },
  {
   "cell_type": "markdown",
   "metadata": {},
   "source": [
    " * Soit Pi la probabilité de tirer un rouge dans le sac i\n",
    " * Soit Di la probabilité de tirer le sac i\n",
    " * $p = \\sum_{i=1}^{N} DiPi$\n",
    " * Di vaut 1/3 c'est donc une constante (K)\n",
    " * $p = \\sum_{i=1}^{N} K*Pi$\n",
    " * $p = K * \\sum_{i=1}^{N} Pi$\n",
    " * $p = \\frac{1}{3} * (0.75 + 0.60 + 0.45)$\n",
    " * $p = \\frac{1.8}{3} $\n",
    " * $p = 0.6$"
   ]
  }
 ],
 "metadata": {
  "kernelspec": {
   "display_name": "Python 3",
   "language": "python",
   "name": "python3"
  },
  "language_info": {
   "codemirror_mode": {
    "name": "ipython",
    "version": 3
   },
   "file_extension": ".py",
   "mimetype": "text/x-python",
   "name": "python",
   "nbconvert_exporter": "python",
   "pygments_lexer": "ipython3",
   "version": "3.7.3"
  }
 },
 "nbformat": 4,
 "nbformat_minor": 2
}
